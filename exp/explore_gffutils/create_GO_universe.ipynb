{
 "cells": [
  {
   "cell_type": "code",
   "execution_count": 25,
   "id": "4a64c104-2106-4e5a-a800-da4d06b783aa",
   "metadata": {},
   "outputs": [],
   "source": [
    "import gffutils\n",
    "import pandas as pd\n",
    "def create_db(gff_file):\n",
    "    return gffutils.create_db(gff_file, \n",
    "                                dbfn='Gb.db', \n",
    "                                force=True, \n",
    "                                keep_order=True,\n",
    "                                merge_strategy='merge', \n",
    "                                sort_attribute_values=True)\n",
    "\n",
    "\n",
    "def collect_all_mRNAs(db, gene):\n",
    "    \"\"\"\n",
    "    Gather all mRNAs of a gene into lists and return them as a list\n",
    "    \"\"\"\n",
    "    mRNAs = []\n",
    "    for feature in db.children(gene):\n",
    "        if(feature.featuretype == \"mRNA\"):\n",
    "            mRNAs.append(feature)\n",
    "    return mRNAs\n",
    "\n",
    "def remove_dublicates(list_of_GOs):\n",
    "    \"\"\"Remove dublicate GO terms from a list\"\"\"\n",
    "    return list(set(list_of_GOs))\n",
    "\n",
    "def join_dict_value_lists(all_genes):\n",
    "    for key,value in all_genes.items():\n",
    "        if value is not None:\n",
    "        #if isinstance(, list):\n",
    "            all_genes[key] = remove_dublicates(sum(value, []))\n",
    "    return all_genes\n",
    "\n",
    "def populate_GO_dict(db):\n",
    "    all_genes = {}\n",
    "    for gene in db.features_of_type('gene'):\n",
    "        for mRNA in collect_all_mRNAs(db, gene):\n",
    "            GO_terms = mRNA.attributes.get(\"Ontology_term\")\n",
    "            if GO_terms is None:\n",
    "                GO_terms = []\n",
    "            if gene.id in all_genes:\n",
    "                all_genes[gene.id].append(GO_terms)\n",
    "            else:\n",
    "                all_genes[gene.id] = [GO_terms]\n",
    "    return join_dict_value_lists(all_genes)\n",
    "    \n",
    "def fill_Nones(GO_dict, fill_value):\n",
    "    for key in GO_dict:\n",
    "        if not GO_dict[key]:\n",
    "            GO_dict[key] = fill_value\n",
    "    return GO_dict\n",
    "\n",
    "def concatenate_unique_GO_list(GO_dict):\n",
    "    for key in GO_dict:\n",
    "        if isinstance(GO_dict[key], list):\n",
    "            GO_dict[key] = \",\".join(GO_dict[key])\n",
    "    return GO_dict\n",
    "\n",
    "def convert_dict_to_df(GO_dict):\n",
    "    df = pd.DataFrame.from_dict(GO_dict, \n",
    "                                    orient='index',\n",
    "                                    columns=['GO-term'])\n",
    "    df.index.name = \"transcripts\"\n",
    "    return df\n",
    "\n",
    "def write_tsv(filename, df):\n",
    "    \"\"\"Write pandas DataFrame as tsv file\"\"\"\n",
    "    df.to_csv(filename, sep='\\t')"
   ]
  },
  {
   "cell_type": "code",
   "execution_count": 26,
   "id": "82563947-346c-4fe3-903e-960001a1841b",
   "metadata": {},
   "outputs": [],
   "source": [
    "output = \"GO_universe.tsv\"\n",
    "fill_value = \"\"\n",
    "db = create_db(\"genome.genes.gff3\")\n",
    "GO_dict = populate_GO_dict(db)\n",
    "GO_dict = fill_Nones(GO_dict, fill_value)\n",
    "GO_dict = concatenate_unique_GO_list(GO_dict)\n",
    "GO_df = convert_dict_to_df(GO_dict)\n",
    "\n",
    "#GO_df\n",
    "write_tsv(output, GO_df)"
   ]
  },
  {
   "cell_type": "code",
   "execution_count": null,
   "id": "69310192-efb9-4c18-b810-8e05077a2532",
   "metadata": {},
   "outputs": [],
   "source": [
    "GO_dict"
   ]
  },
  {
   "cell_type": "code",
   "execution_count": null,
   "id": "bbe8929e-8012-4e9b-a48a-b5f1527e13c5",
   "metadata": {},
   "outputs": [],
   "source": []
  }
 ],
 "metadata": {
  "kernelspec": {
   "display_name": "Python 3 (ipykernel)",
   "language": "python",
   "name": "python3"
  },
  "language_info": {
   "codemirror_mode": {
    "name": "ipython",
    "version": 3
   },
   "file_extension": ".py",
   "mimetype": "text/x-python",
   "name": "python",
   "nbconvert_exporter": "python",
   "pygments_lexer": "ipython3",
   "version": "3.8.12"
  }
 },
 "nbformat": 4,
 "nbformat_minor": 5
}
