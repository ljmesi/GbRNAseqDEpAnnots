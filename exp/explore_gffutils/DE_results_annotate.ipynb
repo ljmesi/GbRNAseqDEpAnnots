{
 "cells": [
  {
   "cell_type": "code",
   "execution_count": 134,
   "id": "7edb7da9-8c01-4c9e-8e52-517b02515c1c",
   "metadata": {},
   "outputs": [],
   "source": [
    "import gffutils\n",
    "db = gffutils.create_db(\"genome.genes.gff3\", \n",
    "                        dbfn='Gb.db', \n",
    "                        force=True, \n",
    "                        keep_order=True,\n",
    "                        merge_strategy='merge', \n",
    "                        sort_attribute_values=True)\n",
    "\n",
    "def match_mRNAs_and_CDSs(mRNA_list, CDS_list):\n",
    "    \"\"\"Join together into a tuple all CDS objects in list and their parent mRNA\"\"\"\n",
    "    matched = []\n",
    "    for mRNA in mRNA_list:\n",
    "        # Start with an empty list of CDSs for each mRNA\n",
    "        all_CDSs_of_mRNA = []\n",
    "        for cds in CDS_list:\n",
    "            if(mRNA.id == cds.attributes.get(\"Parent\")[0]):\n",
    "                all_CDSs_of_mRNA.append(cds)\n",
    "        matched.append((mRNA, all_CDSs_of_mRNA))\n",
    "    return matched\n",
    "\n",
    "def collect_all_mRNAs_and_CDSs(db, gene):\n",
    "    \"\"\"\n",
    "    Gather all mRNA and CDS features of a gene into lists and return \n",
    "    them as a tuple\n",
    "    \"\"\"\n",
    "    mRNAs = []\n",
    "    CDSs = []\n",
    "    for feature in db.children(gene):\n",
    "        if(feature.featuretype == \"mRNA\"):\n",
    "            mRNAs.append(feature)\n",
    "            continue\n",
    "        if(feature.featuretype == \"CDS\"):\n",
    "            CDSs.append(feature)\n",
    "            continue\n",
    "    return (mRNAs, CDSs)\n",
    "\n",
    "def remove_dublicates(list_of_products):\n",
    "    \"\"\"Remove dublicate gene product names from a list\"\"\"\n",
    "    return list(set(list_of_products))\n",
    "\n",
    "def get_products_from_cds_list(cds_list):\n",
    "    \"\"\"Get a list of unique gene product strings from a list of CDS objects\"\"\"\n",
    "    all_products = []\n",
    "    found_products = False\n",
    "    for cds in cds_list:\n",
    "        # If there is a product it is returned inside of a list\n",
    "        product = cds.attributes.get(\"Product\")\n",
    "        if product:\n",
    "            all_products.append(product[0])\n",
    "            found_products = True\n",
    "    if found_products:\n",
    "        return remove_dublicates(all_products)\n",
    "    else:\n",
    "        return list()\n",
    "        \n",
    "def get_IDs_from_cds_list(cds_list):\n",
    "    \"\"\"Get a list of CDS IDs from a list of CDS objects\"\"\"\n",
    "    return [cds.id for cds in cds_list]"
   ]
  },
  {
   "cell_type": "code",
   "execution_count": 135,
   "id": "9278faf5-498b-4141-8095-25ab63ea7d1a",
   "metadata": {
    "tags": []
   },
   "outputs": [],
   "source": [
    "# Populate gene dict with all transcript and cds annotations \n",
    "# in a list of dicts, e.g.\n",
    "# {gene1_ID:\n",
    "#[\n",
    "#{'Gene_name': ['HIBN'],\n",
    "# 'Transcript_ID': 'gbgene20309.t1', \n",
    "# 'Ontology_term': ['GO:0005634', 'GO:0061676'], \n",
    "# 'Dbxref': ['UniProtKB/Swiss-Prot:P06180', 'GeneID:397901'], \n",
    "# 'CDS_ID': 'gbgene5187.t2.CDS7', \n",
    "# 'CDS_Product': ['Histone-binding protein N1/N2']}, \n",
    "#{'Gene_name': ['HIBN'],\n",
    "# 'Transcript_ID': 'gbgene20309.t2', \n",
    "# 'Ontology_term': ['GO:0005634', 'GO:0061676'], \n",
    "# 'Dbxref': ['UniProtKB/Swiss-Prot:P06180', 'GeneID:397901'], \n",
    "# 'CDS_ID': 'gbgene5187.t2.CDS7', \n",
    "# 'CDS_Product': ['Histone-binding protein N1/N2']\n",
    "# ...\n",
    "#],\n",
    "# ...\n",
    "#}\n",
    "gene_annotations = {}\n",
    "for gene in db.features_of_type('gene'):\n",
    "    # Gather the gene's all mRNAs and CDSs into own lists\n",
    "    mRNAs, CDSs = collect_all_mRNAs_and_CDSs(db, gene)\n",
    "    # Iterate over CDSs and their parent mRNA and store all relevant info into\n",
    "    # gene_annotation dictionary\n",
    "    for tx_cds in match_mRNAs_and_CDSs(mRNAs, CDSs):        \n",
    "        mRNA = tx_cds[0]\n",
    "        all_CDSs_of_mRNA = tx_cds[1]\n",
    "        cds_products = get_products_from_cds_list(all_CDSs_of_mRNA)\n",
    "        cds_IDs = get_IDs_from_cds_list(all_CDSs_of_mRNA)\n",
    "        # Populate gene_annotations dictionary\n",
    "        if gene.id in gene_annotations:\n",
    "            gene_annotations[gene.id].append({\n",
    "                \"Gene_name\" : gene.attributes.get(\"Name\"),\n",
    "                \"Transcript_ID\" : mRNA.id,\n",
    "                \"Ontology_term\" : mRNA.attributes.get(\"Ontology_term\"),\n",
    "                \"Dbxref\" : mRNA.attributes.get(\"Dbxref\"),\n",
    "                \"CDS_ID\" : cds_IDs,\n",
    "                \"CDS_Product\" : cds_products\n",
    "                })\n",
    "        else:\n",
    "            gene_annotations[gene.id] = [{\n",
    "                \"Gene_name\" : gene.attributes.get(\"Name\"),\n",
    "                \"Transcript_ID\" : mRNA.id,\n",
    "                \"Ontology_term\" : mRNA.attributes.get(\"Ontology_term\"),\n",
    "                \"Dbxref\" : mRNA.attributes.get(\"Dbxref\"),\n",
    "                \"CDS_ID\" : cds_IDs,\n",
    "                \"CDS_Product\" : cds_products\n",
    "                }]"
   ]
  },
  {
   "cell_type": "markdown",
   "id": "f97030f5-3c71-4d51-aa07-52cef1adff15",
   "metadata": {},
   "source": [
    "**feature**\n",
    " 'astuple',\n",
    " 'attributes',\n",
    " 'bin',\n",
    " 'calc_bin',\n",
    " 'chrom',\n",
    " 'dialect',\n",
    " 'end',\n",
    " 'extra',\n",
    " 'featuretype',\n",
    " 'file_order',\n",
    " 'frame',\n",
    " 'id',\n",
    " 'keep_order',\n",
    " 'score',\n",
    " 'seqid',\n",
    " 'sequence',\n",
    " 'sort_attribute_values',\n",
    " 'source',\n",
    " 'start',\n",
    " 'stop',\n",
    " 'strand'\n",
    "\n",
    "**db**\n",
    "'add_relation',\n",
    " 'all_features',\n",
    " 'analyze',\n",
    " 'bed12',\n",
    " 'children',\n",
    " 'children_bp',\n",
    " 'conn',\n",
    " 'count_features_of_type',\n",
    " 'create_introns',\n",
    " 'dbfn',\n",
    " 'default_encoding',\n",
    " 'delete',\n",
    " 'dialect',\n",
    " 'directives',\n",
    " 'execute',\n",
    " 'features_of_type',\n",
    " 'featuretypes',\n",
    " 'interfeatures',\n",
    " 'iter_by_parent_childs',\n",
    " 'keep_order',\n",
    " 'merge',\n",
    " 'merge_all',\n",
    " 'method',\n",
    " 'parents',\n",
    " 'pragmas',\n",
    " 'region',\n",
    " 'schema',\n",
    " 'set_pragmas',\n",
    " 'sort_attribute_values',\n",
    " 'update',\n",
    " 'version'\n",
    "\n",
    " **attributes**\n",
    " 'clear',\n",
    " 'get',\n",
    " 'items',\n",
    " 'keys',\n",
    " 'pop',\n",
    " 'popitem',\n",
    " 'setdefault',\n",
    " 'update',\n",
    " 'values'"
   ]
  },
  {
   "cell_type": "code",
   "execution_count": 137,
   "id": "4880246c-1ad8-46ba-985b-75fcbe6c2578",
   "metadata": {},
   "outputs": [
    {
     "name": "stdout",
     "output_type": "stream",
     "text": [
      "[{'Gene_name': None, 'Transcript_ID': 'gbgene20353.t1', 'Ontology_term': None, 'Dbxref': None, 'CDS_ID': ['gbgene20353.t1.CDS1'], 'CDS_Product': []}]\n"
     ]
    }
   ],
   "source": [
    "print(gene_annotations[gene.id])"
   ]
  },
  {
   "cell_type": "code",
   "execution_count": 136,
   "id": "2b73d323-e446-4e7f-9874-81d437053d91",
   "metadata": {},
   "outputs": [
    {
     "name": "stdout",
     "output_type": "stream",
     "text": [
      "[{'Gene_name': ['HIBN'], 'Transcript_ID': 'gbgene20309.t1', 'Ontology_term': ['GO:0005634', 'GO:0061676'], 'Dbxref': ['UniProtKB/Swiss-Prot:P06180', 'GeneID:397901', 'KEGG:xla:397901', 'PFAM:PF10516', 'PFAM:PF13181', 'InterPro:IPR019544', 'InterPro:IPR013026', 'InterPro:IPR011990', 'InterPro:IPR019734', 'EMBL:X04712'], 'CDS_ID': ['gbgene20309.t1.CDS1'], 'CDS_Product': ['Histone-binding protein N1/N2']}, {'Gene_name': ['HIBN'], 'Transcript_ID': 'gbgene20309.t2', 'Ontology_term': ['GO:0005634', 'GO:0061676'], 'Dbxref': ['UniProtKB/Swiss-Prot:P06180', 'GeneID:397901', 'KEGG:xla:397901', 'PFAM:PF10516', 'PFAM:PF13181', 'InterPro:IPR019544', 'InterPro:IPR013026', 'InterPro:IPR011990', 'InterPro:IPR019734', 'EMBL:X04712'], 'CDS_ID': ['gbgene20309.t2.CDS1'], 'CDS_Product': ['Histone-binding protein N1/N2']}]\n"
     ]
    }
   ],
   "source": [
    "print(gene_annotations[\"gbgene20309\"])"
   ]
  },
  {
   "cell_type": "code",
   "execution_count": 141,
   "id": "93140fc1-74d1-45af-902a-1e07d22d497b",
   "metadata": {
    "tags": []
   },
   "outputs": [
    {
     "name": "stdout",
     "output_type": "stream",
     "text": [
      "ID: ['gbgene20309.t1']\n",
      "Parent: ['gbgene20309']\n",
      "Ontology_term: ['GO:0005634', 'GO:0061676']\n",
      "Dbxref: ['UniProtKB/Swiss-Prot:P06180', 'GeneID:397901', 'KEGG:xla:397901', 'PFAM:PF10516', 'PFAM:PF13181', 'InterPro:IPR019544', 'InterPro:IPR013026', 'InterPro:IPR011990', 'InterPro:IPR019734', 'EMBL:X04712']\n"
     ]
    }
   ],
   "source": [
    "gbgene20309_ch = list(db.children(\"gbgene20309\"))\n",
    "for feature in gbgene20309_ch:\n",
    "    if(feature.featuretype == \"mRNA\"):\n",
    "        print(feature.attributes)\n",
    "    break"
   ]
  },
  {
   "cell_type": "code",
   "execution_count": 143,
   "id": "1df8cf4b-5281-4240-824b-82511fbe81f8",
   "metadata": {},
   "outputs": [],
   "source": [
    "%%capture cap --no-stderr\n",
    "print(gene_annotations)\n",
    "with open('output.json', 'w') as f:\n",
    "    f.write(cap.stdout)"
   ]
  },
  {
   "cell_type": "raw",
   "id": "b38e590c-9497-4234-83c8-7d7fbe93e905",
   "metadata": {},
   "source": [
    "db2 = gffutils.create_db(\"genome.genes.gff3\", \n",
    "                         dbfn='Gb2.db', \n",
    "                         force=True, \n",
    "                         keep_order=True,\n",
    "                         sort_attribute_values=True,\n",
    "                         merge_strategy='merge',\n",
    "                         id_spec=['ID', 'Name'])"
   ]
  },
  {
   "cell_type": "raw",
   "id": "a3ca995a-2ee3-4554-a97a-95d8cfb1286f",
   "metadata": {},
   "source": [
    "all_mRNAs = list(db.features_of_type('mRNA'))\n",
    "all_genes = list(db.features_of_type('gene'))\n",
    "gene_annotations = {}"
   ]
  },
  {
   "cell_type": "raw",
   "id": "d04e43cb-3112-4993-b5e6-905fc768baa0",
   "metadata": {},
   "source": [
    "def check_if_feature_is_CDS(feature):\n",
    "    if(feature.featuretype == \"CDS\"):\n",
    "        return True\n",
    "\n",
    "def get_parent_transcript(db, gene, cds):\n",
    "    for feature in db.children(gene):\n",
    "        if(cds.Parent == feature.id):\n",
    "            return feature\n",
    "def get_"
   ]
  },
  {
   "cell_type": "raw",
   "id": "175cac9d-0f1e-411e-ac35-5c695b7e633b",
   "metadata": {},
   "source": [
    "def retrieve_CDSs_info_from_txID_and_gene(db, tx_ID, gene):\n",
    "    CDS_info_list = []\n",
    "    for feature in db.children(gene):\n",
    "        if(check_if_feature_is_CDS(feature)):\n",
    "            tx = get_parent_transcript(db, gene, feature)\n",
    "                \n",
    "            \n",
    "            \n",
    "            \n",
    "            CDS_info_list.append({\"CDS_ID\" : feature.id, \n",
    "                                  \"Transcript_ID\" : feature.Parent,\n",
    "                                  \"Product\" :feature.attributes.get(\"Product\")})\n",
    "    return CDS_info_list"
   ]
  },
  {
   "cell_type": "code",
   "execution_count": null,
   "id": "7f319593-3333-4c6e-b6c3-e7140d22a473",
   "metadata": {},
   "outputs": [],
   "source": []
  }
 ],
 "metadata": {
  "kernelspec": {
   "display_name": "Python 3 (ipykernel)",
   "language": "python",
   "name": "python3"
  },
  "language_info": {
   "codemirror_mode": {
    "name": "ipython",
    "version": 3
   },
   "file_extension": ".py",
   "mimetype": "text/x-python",
   "name": "python",
   "nbconvert_exporter": "python",
   "pygments_lexer": "ipython3",
   "version": "3.8.12"
  }
 },
 "nbformat": 4,
 "nbformat_minor": 5
}
